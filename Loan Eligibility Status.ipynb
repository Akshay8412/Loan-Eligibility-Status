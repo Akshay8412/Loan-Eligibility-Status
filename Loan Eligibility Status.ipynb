{
 "cells": [
  {
   "cell_type": "markdown",
   "id": "45787bce",
   "metadata": {},
   "source": [
    "## Business Problem Understanding"
   ]
  },
  {
   "cell_type": "markdown",
   "id": "8c11b456",
   "metadata": {},
   "source": [
    "Dream housin Finance company deals in all Kinds of home loans.They have presencce across all urban semi urban and rural areas Cutomer\n",
    "first applies for home loan and afetr that company validates the customer eligibility for loan.\n",
    "\n",
    "Company wants to artibute the loan eligibility process (real time) based on consumer details provides whill filling omnline application form. these detials are gender ,Martal Statas,Education,No of Dependent,income loan ammount,Creadit history and others to automate this process,they have provides a dataset to identify the custemers segments that are eligiable for loan ammount so that they can specifically tatrget these customers."
   ]
  },
  {
   "cell_type": "code",
   "execution_count": 1,
   "id": "faf1a601",
   "metadata": {},
   "outputs": [],
   "source": [
    "import numpy as np \n",
    "import pandas as pd\n",
    "import matplotlib.pyplot as plt\n",
    "import seaborn as sns\n",
    "\n",
    "import warnings\n",
    "warnings.filterwarnings(\"ignore\")"
   ]
  },
  {
   "cell_type": "code",
   "execution_count": 2,
   "id": "34135420",
   "metadata": {
    "scrolled": true
   },
   "outputs": [
    {
     "data": {
      "text/html": [
       "<div>\n",
       "<style scoped>\n",
       "    .dataframe tbody tr th:only-of-type {\n",
       "        vertical-align: middle;\n",
       "    }\n",
       "\n",
       "    .dataframe tbody tr th {\n",
       "        vertical-align: top;\n",
       "    }\n",
       "\n",
       "    .dataframe thead th {\n",
       "        text-align: right;\n",
       "    }\n",
       "</style>\n",
       "<table border=\"1\" class=\"dataframe\">\n",
       "  <thead>\n",
       "    <tr style=\"text-align: right;\">\n",
       "      <th></th>\n",
       "      <th>Loan_ID</th>\n",
       "      <th>Gender</th>\n",
       "      <th>Married</th>\n",
       "      <th>Dependents</th>\n",
       "      <th>Education</th>\n",
       "      <th>Self_Employed</th>\n",
       "      <th>ApplicantIncome</th>\n",
       "      <th>CoapplicantIncome</th>\n",
       "      <th>LoanAmount</th>\n",
       "      <th>Loan_Amount_Term</th>\n",
       "      <th>Credit_History</th>\n",
       "      <th>Property_Area</th>\n",
       "      <th>Loan_Status</th>\n",
       "    </tr>\n",
       "  </thead>\n",
       "  <tbody>\n",
       "    <tr>\n",
       "      <th>0</th>\n",
       "      <td>LP001002</td>\n",
       "      <td>Male</td>\n",
       "      <td>No</td>\n",
       "      <td>0</td>\n",
       "      <td>Graduate</td>\n",
       "      <td>No</td>\n",
       "      <td>5849</td>\n",
       "      <td>0.0</td>\n",
       "      <td>NaN</td>\n",
       "      <td>360.0</td>\n",
       "      <td>1.0</td>\n",
       "      <td>Urban</td>\n",
       "      <td>Y</td>\n",
       "    </tr>\n",
       "    <tr>\n",
       "      <th>1</th>\n",
       "      <td>LP001003</td>\n",
       "      <td>Male</td>\n",
       "      <td>Yes</td>\n",
       "      <td>1</td>\n",
       "      <td>Graduate</td>\n",
       "      <td>No</td>\n",
       "      <td>4583</td>\n",
       "      <td>1508.0</td>\n",
       "      <td>128.0</td>\n",
       "      <td>360.0</td>\n",
       "      <td>1.0</td>\n",
       "      <td>Rural</td>\n",
       "      <td>N</td>\n",
       "    </tr>\n",
       "    <tr>\n",
       "      <th>2</th>\n",
       "      <td>LP001005</td>\n",
       "      <td>Male</td>\n",
       "      <td>Yes</td>\n",
       "      <td>0</td>\n",
       "      <td>Graduate</td>\n",
       "      <td>Yes</td>\n",
       "      <td>3000</td>\n",
       "      <td>0.0</td>\n",
       "      <td>66.0</td>\n",
       "      <td>360.0</td>\n",
       "      <td>1.0</td>\n",
       "      <td>Urban</td>\n",
       "      <td>Y</td>\n",
       "    </tr>\n",
       "    <tr>\n",
       "      <th>3</th>\n",
       "      <td>LP001006</td>\n",
       "      <td>Male</td>\n",
       "      <td>Yes</td>\n",
       "      <td>0</td>\n",
       "      <td>Not Graduate</td>\n",
       "      <td>No</td>\n",
       "      <td>2583</td>\n",
       "      <td>2358.0</td>\n",
       "      <td>120.0</td>\n",
       "      <td>360.0</td>\n",
       "      <td>1.0</td>\n",
       "      <td>Urban</td>\n",
       "      <td>Y</td>\n",
       "    </tr>\n",
       "    <tr>\n",
       "      <th>4</th>\n",
       "      <td>LP001008</td>\n",
       "      <td>Male</td>\n",
       "      <td>No</td>\n",
       "      <td>0</td>\n",
       "      <td>Graduate</td>\n",
       "      <td>No</td>\n",
       "      <td>6000</td>\n",
       "      <td>0.0</td>\n",
       "      <td>141.0</td>\n",
       "      <td>360.0</td>\n",
       "      <td>1.0</td>\n",
       "      <td>Urban</td>\n",
       "      <td>Y</td>\n",
       "    </tr>\n",
       "  </tbody>\n",
       "</table>\n",
       "</div>"
      ],
      "text/plain": [
       "    Loan_ID Gender Married Dependents     Education Self_Employed  \\\n",
       "0  LP001002   Male      No          0      Graduate            No   \n",
       "1  LP001003   Male     Yes          1      Graduate            No   \n",
       "2  LP001005   Male     Yes          0      Graduate           Yes   \n",
       "3  LP001006   Male     Yes          0  Not Graduate            No   \n",
       "4  LP001008   Male      No          0      Graduate            No   \n",
       "\n",
       "   ApplicantIncome  CoapplicantIncome  LoanAmount  Loan_Amount_Term  \\\n",
       "0             5849                0.0         NaN             360.0   \n",
       "1             4583             1508.0       128.0             360.0   \n",
       "2             3000                0.0        66.0             360.0   \n",
       "3             2583             2358.0       120.0             360.0   \n",
       "4             6000                0.0       141.0             360.0   \n",
       "\n",
       "   Credit_History Property_Area Loan_Status  \n",
       "0             1.0         Urban           Y  \n",
       "1             1.0         Rural           N  \n",
       "2             1.0         Urban           Y  \n",
       "3             1.0         Urban           Y  \n",
       "4             1.0         Urban           Y  "
      ]
     },
     "execution_count": 2,
     "metadata": {},
     "output_type": "execute_result"
    }
   ],
   "source": [
    "data=pd.read_csv(\"LoanData.csv\")\n",
    "data.head()"
   ]
  },
  {
   "cell_type": "code",
   "execution_count": 3,
   "id": "a88ba0d8",
   "metadata": {},
   "outputs": [
    {
     "name": "stdout",
     "output_type": "stream",
     "text": [
      "<class 'pandas.core.frame.DataFrame'>\n",
      "RangeIndex: 614 entries, 0 to 613\n",
      "Data columns (total 13 columns):\n",
      " #   Column             Non-Null Count  Dtype  \n",
      "---  ------             --------------  -----  \n",
      " 0   Loan_ID            614 non-null    object \n",
      " 1   Gender             601 non-null    object \n",
      " 2   Married            611 non-null    object \n",
      " 3   Dependents         599 non-null    object \n",
      " 4   Education          614 non-null    object \n",
      " 5   Self_Employed      582 non-null    object \n",
      " 6   ApplicantIncome    614 non-null    int64  \n",
      " 7   CoapplicantIncome  614 non-null    float64\n",
      " 8   LoanAmount         592 non-null    float64\n",
      " 9   Loan_Amount_Term   600 non-null    float64\n",
      " 10  Credit_History     564 non-null    float64\n",
      " 11  Property_Area      614 non-null    object \n",
      " 12  Loan_Status        614 non-null    object \n",
      "dtypes: float64(4), int64(1), object(8)\n",
      "memory usage: 62.5+ KB\n"
     ]
    }
   ],
   "source": [
    "data.info()"
   ]
  },
  {
   "cell_type": "code",
   "execution_count": 4,
   "id": "1cf760f9",
   "metadata": {},
   "outputs": [
    {
     "data": {
      "text/plain": [
       "Index(['Loan_ID', 'Gender', 'Married', 'Dependents', 'Education',\n",
       "       'Self_Employed', 'ApplicantIncome', 'CoapplicantIncome', 'LoanAmount',\n",
       "       'Loan_Amount_Term', 'Credit_History', 'Property_Area', 'Loan_Status'],\n",
       "      dtype='object')"
      ]
     },
     "execution_count": 4,
     "metadata": {},
     "output_type": "execute_result"
    }
   ],
   "source": [
    "data.columns"
   ]
  },
  {
   "cell_type": "markdown",
   "id": "c9375b91",
   "metadata": {},
   "source": [
    "### Data Understanding\n",
    "  - Loan_ID:Unique Loan ID\n",
    "  - Gender:Male/Female\n",
    "  - Married:Applicant Married\n",
    "  - Dependents:Number of dependents\n",
    "  - Education:Applicant Education\n",
    "  - Self Employed:whether the applicant is Self employed\n",
    "  - Applicant Income:Coapplicant income\n",
    "  - Loan_Amount_Team:Term of loan in months\n",
    "  - Credit_History:cedit history meets guidelines\n",
    "  - Property_Area:Urban/Semi Urabn/Rural\n",
    "  - LOan_Status:Loan approved traget variable\n"
   ]
  },
  {
   "cell_type": "code",
   "execution_count": 5,
   "id": "3622bbee",
   "metadata": {},
   "outputs": [
    {
     "data": {
      "text/plain": [
       "array(['LP001002', 'LP001003', 'LP001005', 'LP001006', 'LP001008',\n",
       "       'LP001011', 'LP001013', 'LP001014', 'LP001018', 'LP001020',\n",
       "       'LP001024', 'LP001027', 'LP001028', 'LP001029', 'LP001030',\n",
       "       'LP001032', 'LP001034', 'LP001036', 'LP001038', 'LP001041',\n",
       "       'LP001043', 'LP001046', 'LP001047', 'LP001050', 'LP001052',\n",
       "       'LP001066', 'LP001068', 'LP001073', 'LP001086', 'LP001087',\n",
       "       'LP001091', 'LP001095', 'LP001097', 'LP001098', 'LP001100',\n",
       "       'LP001106', 'LP001109', 'LP001112', 'LP001114', 'LP001116',\n",
       "       'LP001119', 'LP001120', 'LP001123', 'LP001131', 'LP001136',\n",
       "       'LP001137', 'LP001138', 'LP001144', 'LP001146', 'LP001151',\n",
       "       'LP001155', 'LP001157', 'LP001164', 'LP001179', 'LP001186',\n",
       "       'LP001194', 'LP001195', 'LP001197', 'LP001198', 'LP001199',\n",
       "       'LP001205', 'LP001206', 'LP001207', 'LP001213', 'LP001222',\n",
       "       'LP001225', 'LP001228', 'LP001233', 'LP001238', 'LP001241',\n",
       "       'LP001243', 'LP001245', 'LP001248', 'LP001250', 'LP001253',\n",
       "       'LP001255', 'LP001256', 'LP001259', 'LP001263', 'LP001264',\n",
       "       'LP001265', 'LP001266', 'LP001267', 'LP001273', 'LP001275',\n",
       "       'LP001279', 'LP001280', 'LP001282', 'LP001289', 'LP001310',\n",
       "       'LP001316', 'LP001318', 'LP001319', 'LP001322', 'LP001325',\n",
       "       'LP001326', 'LP001327', 'LP001333', 'LP001334', 'LP001343',\n",
       "       'LP001345', 'LP001349', 'LP001350', 'LP001356', 'LP001357',\n",
       "       'LP001367', 'LP001369', 'LP001370', 'LP001379', 'LP001384',\n",
       "       'LP001385', 'LP001387', 'LP001391', 'LP001392', 'LP001398',\n",
       "       'LP001401', 'LP001404', 'LP001405', 'LP001421', 'LP001422',\n",
       "       'LP001426', 'LP001430', 'LP001431', 'LP001432', 'LP001439',\n",
       "       'LP001443', 'LP001448', 'LP001449', 'LP001451', 'LP001465',\n",
       "       'LP001469', 'LP001473', 'LP001478', 'LP001482', 'LP001487',\n",
       "       'LP001488', 'LP001489', 'LP001491', 'LP001492', 'LP001493',\n",
       "       'LP001497', 'LP001498', 'LP001504', 'LP001507', 'LP001508',\n",
       "       'LP001514', 'LP001516', 'LP001518', 'LP001519', 'LP001520',\n",
       "       'LP001528', 'LP001529', 'LP001531', 'LP001532', 'LP001535',\n",
       "       'LP001536', 'LP001541', 'LP001543', 'LP001546', 'LP001552',\n",
       "       'LP001560', 'LP001562', 'LP001565', 'LP001570', 'LP001572',\n",
       "       'LP001574', 'LP001577', 'LP001578', 'LP001579', 'LP001580',\n",
       "       'LP001581', 'LP001585', 'LP001586', 'LP001594', 'LP001603',\n",
       "       'LP001606', 'LP001608', 'LP001610', 'LP001616', 'LP001630',\n",
       "       'LP001633', 'LP001634', 'LP001636', 'LP001637', 'LP001639',\n",
       "       'LP001640', 'LP001641', 'LP001643', 'LP001644', 'LP001647',\n",
       "       'LP001653', 'LP001656', 'LP001657', 'LP001658', 'LP001664',\n",
       "       'LP001665', 'LP001666', 'LP001669', 'LP001671', 'LP001673',\n",
       "       'LP001674', 'LP001677', 'LP001682', 'LP001688', 'LP001691',\n",
       "       'LP001692', 'LP001693', 'LP001698', 'LP001699', 'LP001702',\n",
       "       'LP001708', 'LP001711', 'LP001713', 'LP001715', 'LP001716',\n",
       "       'LP001720', 'LP001722', 'LP001726', 'LP001732', 'LP001734',\n",
       "       'LP001736', 'LP001743', 'LP001744', 'LP001749', 'LP001750',\n",
       "       'LP001751', 'LP001754', 'LP001758', 'LP001760', 'LP001761',\n",
       "       'LP001765', 'LP001768', 'LP001770', 'LP001776', 'LP001778',\n",
       "       'LP001784', 'LP001786', 'LP001788', 'LP001790', 'LP001792',\n",
       "       'LP001798', 'LP001800', 'LP001806', 'LP001807', 'LP001811',\n",
       "       'LP001813', 'LP001814', 'LP001819', 'LP001824', 'LP001825',\n",
       "       'LP001835', 'LP001836', 'LP001841', 'LP001843', 'LP001844',\n",
       "       'LP001846', 'LP001849', 'LP001854', 'LP001859', 'LP001864',\n",
       "       'LP001865', 'LP001868', 'LP001870', 'LP001871', 'LP001872',\n",
       "       'LP001875', 'LP001877', 'LP001882', 'LP001883', 'LP001884',\n",
       "       'LP001888', 'LP001891', 'LP001892', 'LP001894', 'LP001896',\n",
       "       'LP001900', 'LP001903', 'LP001904', 'LP001907', 'LP001908',\n",
       "       'LP001910', 'LP001914', 'LP001915', 'LP001917', 'LP001922',\n",
       "       'LP001924', 'LP001925', 'LP001926', 'LP001931', 'LP001935',\n",
       "       'LP001936', 'LP001938', 'LP001940', 'LP001945', 'LP001947',\n",
       "       'LP001949', 'LP001953', 'LP001954', 'LP001955', 'LP001963',\n",
       "       'LP001964', 'LP001972', 'LP001974', 'LP001977', 'LP001978',\n",
       "       'LP001990', 'LP001993', 'LP001994', 'LP001996', 'LP001998',\n",
       "       'LP002002', 'LP002004', 'LP002006', 'LP002008', 'LP002024',\n",
       "       'LP002031', 'LP002035', 'LP002036', 'LP002043', 'LP002050',\n",
       "       'LP002051', 'LP002053', 'LP002054', 'LP002055', 'LP002065',\n",
       "       'LP002067', 'LP002068', 'LP002082', 'LP002086', 'LP002087',\n",
       "       'LP002097', 'LP002098', 'LP002100', 'LP002101', 'LP002103',\n",
       "       'LP002106', 'LP002110', 'LP002112', 'LP002113', 'LP002114',\n",
       "       'LP002115', 'LP002116', 'LP002119', 'LP002126', 'LP002128',\n",
       "       'LP002129', 'LP002130', 'LP002131', 'LP002137', 'LP002138',\n",
       "       'LP002139', 'LP002140', 'LP002141', 'LP002142', 'LP002143',\n",
       "       'LP002144', 'LP002149', 'LP002151', 'LP002158', 'LP002160',\n",
       "       'LP002161', 'LP002170', 'LP002175', 'LP002178', 'LP002180',\n",
       "       'LP002181', 'LP002187', 'LP002188', 'LP002190', 'LP002191',\n",
       "       'LP002194', 'LP002197', 'LP002201', 'LP002205', 'LP002209',\n",
       "       'LP002211', 'LP002219', 'LP002223', 'LP002224', 'LP002225',\n",
       "       'LP002226', 'LP002229', 'LP002231', 'LP002234', 'LP002236',\n",
       "       'LP002237', 'LP002239', 'LP002243', 'LP002244', 'LP002250',\n",
       "       'LP002255', 'LP002262', 'LP002263', 'LP002265', 'LP002266',\n",
       "       'LP002272', 'LP002277', 'LP002281', 'LP002284', 'LP002287',\n",
       "       'LP002288', 'LP002296', 'LP002297', 'LP002300', 'LP002301',\n",
       "       'LP002305', 'LP002308', 'LP002314', 'LP002315', 'LP002317',\n",
       "       'LP002318', 'LP002319', 'LP002328', 'LP002332', 'LP002335',\n",
       "       'LP002337', 'LP002341', 'LP002342', 'LP002345', 'LP002347',\n",
       "       'LP002348', 'LP002357', 'LP002361', 'LP002362', 'LP002364',\n",
       "       'LP002366', 'LP002367', 'LP002368', 'LP002369', 'LP002370',\n",
       "       'LP002377', 'LP002379', 'LP002386', 'LP002387', 'LP002390',\n",
       "       'LP002393', 'LP002398', 'LP002401', 'LP002403', 'LP002407',\n",
       "       'LP002408', 'LP002409', 'LP002418', 'LP002422', 'LP002424',\n",
       "       'LP002429', 'LP002434', 'LP002435', 'LP002443', 'LP002444',\n",
       "       'LP002446', 'LP002447', 'LP002448', 'LP002449', 'LP002453',\n",
       "       'LP002455', 'LP002459', 'LP002467', 'LP002472', 'LP002473',\n",
       "       'LP002478', 'LP002484', 'LP002487', 'LP002489', 'LP002493',\n",
       "       'LP002494', 'LP002500', 'LP002501', 'LP002502', 'LP002505',\n",
       "       'LP002515', 'LP002517', 'LP002519', 'LP002522', 'LP002524',\n",
       "       'LP002527', 'LP002529', 'LP002530', 'LP002531', 'LP002533',\n",
       "       'LP002534', 'LP002536', 'LP002537', 'LP002541', 'LP002543',\n",
       "       'LP002544', 'LP002545', 'LP002547', 'LP002555', 'LP002556',\n",
       "       'LP002560', 'LP002562', 'LP002571', 'LP002582', 'LP002585',\n",
       "       'LP002586', 'LP002587', 'LP002588', 'LP002600', 'LP002602',\n",
       "       'LP002603', 'LP002606', 'LP002615', 'LP002618', 'LP002619',\n",
       "       'LP002622', 'LP002624', 'LP002625', 'LP002626', 'LP002634',\n",
       "       'LP002637', 'LP002640', 'LP002643', 'LP002648', 'LP002652',\n",
       "       'LP002659', 'LP002670', 'LP002682', 'LP002683', 'LP002684',\n",
       "       'LP002689', 'LP002690', 'LP002692', 'LP002693', 'LP002697',\n",
       "       'LP002699', 'LP002705', 'LP002706', 'LP002714', 'LP002716',\n",
       "       'LP002717', 'LP002720', 'LP002723', 'LP002729', 'LP002731',\n",
       "       'LP002732', 'LP002734', 'LP002738', 'LP002739', 'LP002740',\n",
       "       'LP002741', 'LP002743', 'LP002753', 'LP002755', 'LP002757',\n",
       "       'LP002767', 'LP002768', 'LP002772', 'LP002776', 'LP002777',\n",
       "       'LP002778', 'LP002784', 'LP002785', 'LP002788', 'LP002789',\n",
       "       'LP002792', 'LP002794', 'LP002795', 'LP002798', 'LP002804',\n",
       "       'LP002807', 'LP002813', 'LP002820', 'LP002821', 'LP002832',\n",
       "       'LP002833', 'LP002836', 'LP002837', 'LP002840', 'LP002841',\n",
       "       'LP002842', 'LP002847', 'LP002855', 'LP002862', 'LP002863',\n",
       "       'LP002868', 'LP002872', 'LP002874', 'LP002877', 'LP002888',\n",
       "       'LP002892', 'LP002893', 'LP002894', 'LP002898', 'LP002911',\n",
       "       'LP002912', 'LP002916', 'LP002917', 'LP002925', 'LP002926',\n",
       "       'LP002928', 'LP002931', 'LP002933', 'LP002936', 'LP002938',\n",
       "       'LP002940', 'LP002941', 'LP002943', 'LP002945', 'LP002948',\n",
       "       'LP002949', 'LP002950', 'LP002953', 'LP002958', 'LP002959',\n",
       "       'LP002960', 'LP002961', 'LP002964', 'LP002974', 'LP002978',\n",
       "       'LP002979', 'LP002983', 'LP002984', 'LP002990'], dtype=object)"
      ]
     },
     "execution_count": 5,
     "metadata": {},
     "output_type": "execute_result"
    }
   ],
   "source": [
    "data[\"Loan_ID\"].unique()"
   ]
  },
  {
   "cell_type": "code",
   "execution_count": 6,
   "id": "78de3986",
   "metadata": {},
   "outputs": [],
   "source": [
    "data.drop(columns=[\"Loan_ID\"],inplace=True)"
   ]
  },
  {
   "cell_type": "code",
   "execution_count": 7,
   "id": "d8578499",
   "metadata": {},
   "outputs": [
    {
     "data": {
      "text/plain": [
       "array(['Male', 'Female', nan], dtype=object)"
      ]
     },
     "execution_count": 7,
     "metadata": {},
     "output_type": "execute_result"
    }
   ],
   "source": [
    "data[\"Gender\"].unique()"
   ]
  },
  {
   "cell_type": "code",
   "execution_count": 8,
   "id": "de044731",
   "metadata": {
    "scrolled": true
   },
   "outputs": [
    {
     "data": {
      "text/plain": [
       "Gender\n",
       "Male      489\n",
       "Female    112\n",
       "Name: count, dtype: int64"
      ]
     },
     "execution_count": 8,
     "metadata": {},
     "output_type": "execute_result"
    }
   ],
   "source": [
    "data[\"Gender\"].value_counts()"
   ]
  },
  {
   "cell_type": "code",
   "execution_count": 9,
   "id": "9ea38793",
   "metadata": {},
   "outputs": [
    {
     "data": {
      "text/plain": [
       "Married\n",
       "Yes    398\n",
       "No     213\n",
       "Name: count, dtype: int64"
      ]
     },
     "execution_count": 9,
     "metadata": {},
     "output_type": "execute_result"
    }
   ],
   "source": [
    "data[\"Married\"].value_counts()"
   ]
  },
  {
   "cell_type": "code",
   "execution_count": 10,
   "id": "c6b5dd6f",
   "metadata": {},
   "outputs": [
    {
     "data": {
      "text/plain": [
       "array(['No', 'Yes', nan], dtype=object)"
      ]
     },
     "execution_count": 10,
     "metadata": {},
     "output_type": "execute_result"
    }
   ],
   "source": [
    "data['Married'].unique()"
   ]
  },
  {
   "cell_type": "code",
   "execution_count": 11,
   "id": "7767ce08",
   "metadata": {},
   "outputs": [
    {
     "data": {
      "text/plain": [
       "array(['0', '1', '2', '3+', nan], dtype=object)"
      ]
     },
     "execution_count": 11,
     "metadata": {},
     "output_type": "execute_result"
    }
   ],
   "source": [
    "data[\"Dependents\"].unique()"
   ]
  },
  {
   "cell_type": "code",
   "execution_count": 12,
   "id": "184c2059",
   "metadata": {},
   "outputs": [
    {
     "data": {
      "text/plain": [
       "array(['Male', 'Female', nan], dtype=object)"
      ]
     },
     "execution_count": 12,
     "metadata": {},
     "output_type": "execute_result"
    }
   ],
   "source": [
    "data['Gender'].unique()"
   ]
  },
  {
   "cell_type": "code",
   "execution_count": 13,
   "id": "cc7ad2fb",
   "metadata": {},
   "outputs": [
    {
     "data": {
      "text/plain": [
       "Dependents\n",
       "0     345\n",
       "1     102\n",
       "2     101\n",
       "3+     51\n",
       "Name: count, dtype: int64"
      ]
     },
     "execution_count": 13,
     "metadata": {},
     "output_type": "execute_result"
    }
   ],
   "source": [
    "data[\"Dependents\"].value_counts()"
   ]
  },
  {
   "cell_type": "code",
   "execution_count": 14,
   "id": "69b3555b",
   "metadata": {},
   "outputs": [
    {
     "data": {
      "text/plain": [
       "array(['Graduate', 'Not Graduate'], dtype=object)"
      ]
     },
     "execution_count": 14,
     "metadata": {},
     "output_type": "execute_result"
    }
   ],
   "source": [
    "data[\"Education\"].unique()"
   ]
  },
  {
   "cell_type": "code",
   "execution_count": 15,
   "id": "8d33d8ad",
   "metadata": {},
   "outputs": [
    {
     "data": {
      "text/plain": [
       "Education\n",
       "Graduate        480\n",
       "Not Graduate    134\n",
       "Name: count, dtype: int64"
      ]
     },
     "execution_count": 15,
     "metadata": {},
     "output_type": "execute_result"
    }
   ],
   "source": [
    "data['Education'].value_counts()"
   ]
  },
  {
   "cell_type": "code",
   "execution_count": 16,
   "id": "2041835f",
   "metadata": {},
   "outputs": [
    {
     "data": {
      "text/plain": [
       "array(['No', 'Yes', nan], dtype=object)"
      ]
     },
     "execution_count": 16,
     "metadata": {},
     "output_type": "execute_result"
    }
   ],
   "source": [
    "data[\"Self_Employed\"].unique()"
   ]
  },
  {
   "cell_type": "code",
   "execution_count": 17,
   "id": "9ae7abfd",
   "metadata": {},
   "outputs": [],
   "source": [
    "data_cleaned = data.dropna(subset=['Self_Employed'])"
   ]
  },
  {
   "cell_type": "code",
   "execution_count": 18,
   "id": "8232bc13",
   "metadata": {},
   "outputs": [
    {
     "data": {
      "text/plain": [
       "Self_Employed\n",
       "No     500\n",
       "Yes     82\n",
       "Name: count, dtype: int64"
      ]
     },
     "execution_count": 18,
     "metadata": {},
     "output_type": "execute_result"
    }
   ],
   "source": [
    "data['Self_Employed'].value_counts()"
   ]
  },
  {
   "cell_type": "code",
   "execution_count": 19,
   "id": "58717ed2",
   "metadata": {},
   "outputs": [
    {
     "data": {
      "text/plain": [
       "array([ 5849,  4583,  3000,  2583,  6000,  5417,  2333,  3036,  4006,\n",
       "       12841,  3200,  2500,  3073,  1853,  1299,  4950,  3596,  3510,\n",
       "        4887,  2600,  7660,  5955,  3365,  3717,  9560,  2799,  4226,\n",
       "        1442,  3750,  4166,  3167,  4692,  3500, 12500,  2275,  1828,\n",
       "        3667,  3748,  3600,  1800,  2400,  3941,  4695,  3410,  5649,\n",
       "        5821,  2645,  4000,  1928,  3086,  4230,  4616, 11500,  2708,\n",
       "        2132,  3366,  8080,  3357,  3029,  2609,  4945,  5726, 10750,\n",
       "        7100,  4300,  3208,  1875,  4755,  5266,  1000,  3333,  3846,\n",
       "        2395,  1378,  3988,  2366,  8566,  5695,  2958,  6250,  3273,\n",
       "        4133,  3620,  6782,  2484,  1977,  4188,  1759,  4288,  4843,\n",
       "       13650,  4652,  3816,  3052, 11417,  7333,  3800,  2071,  5316,\n",
       "        2929,  3572,  7451,  5050, 14583,  2214,  5568, 10408,  5667,\n",
       "        2137,  2957,  3692, 23803,  3865, 10513,  6080, 20166,  2014,\n",
       "        2718,  3459,  4895,  3316, 14999,  4200,  5042,  6950,  2698,\n",
       "       11757,  2330, 14866,  1538, 10000,  4860,  6277,  2577,  9166,\n",
       "        2281,  3254, 39999,  9538,  2980,  1863,  7933,  3089,  4167,\n",
       "        9323,  3707,  2439,  2237,  8000,  1820, 51763,  3522,  5708,\n",
       "        4344,  3497,  2045,  5516,  6400,  1916,  4600, 33846,  3625,\n",
       "       39147,  2178,  2383,   674,  9328,  4885, 12000,  6033,  3858,\n",
       "        4191,  3125,  8333,  1907,  3416, 11000,  4923,  3992,  3917,\n",
       "        4408,  3244,  3975,  2479,  3418,  3430,  7787,  5703,  3173,\n",
       "        3850,   150,  3727,  5000,  4283,  2221,  4009,  2971,  7578,\n",
       "        3250,  4735,  4758,  2491,  3716,  3189,  3155,  5500,  5746,\n",
       "        3463,  3812,  3315,  5819,  2510,  2965,  3406,  6050,  9703,\n",
       "        6608,  2882,  1809,  1668,  3427,  2661, 16250,  3083,  6045,\n",
       "        5250, 14683,  4931,  6083,  2060,  3481,  7200,  5166,  4095,\n",
       "        4708,  4333,  2876,  3237, 11146,  2833,  2620,  3900,  2750,\n",
       "        3993,  3103,  4100,  4053,  3927,  2301,  1811, 20667,  3158,\n",
       "        3704,  4124,  9508,  3075,  4400,  3153,  4416,  6875,  4666,\n",
       "        2875,  1625,  2000,  3762, 20233,  7667,  2917,  2927,  2507,\n",
       "        2473,  3399,  2058,  3541,  4342,  3601,  3166, 15000,  8666,\n",
       "        4917,  5818,  4384,  2935, 63337,  9833,  5503,  1830,  4160,\n",
       "        2647,  2378,  4554,  2499,  3523,  6333,  2625,  9083,  8750,\n",
       "        2666,  2423,  3813,  3875,  5167,  4723,  4750,  3013,  6822,\n",
       "        6216,  5124,  6325, 19730, 15759,  5185,  3062,  2764,  4817,\n",
       "        4310,  3069,  5391,  5941,  7167,  4566,  2346,  3010,  5488,\n",
       "        9167,  9504,  1993,  3100,  3276,  3180,  3033,  3902,  1500,\n",
       "        2889,  2755,  1963,  7441,  4547,  2167,  2213,  8300, 81000,\n",
       "        3867,  6256,  6096,  2253,  2149,  2995,  1600,  1025,  3246,\n",
       "        5829,  2720,  7250, 14880,  4606,  5935,  2920,  2717,  8624,\n",
       "        6500, 12876,  2425, 10047,  1926, 10416,  7142,  3660,  7901,\n",
       "        4707, 37719,  3466,  3539,  3340,  2769,  2309,  1958,  3948,\n",
       "        2483,  7085,  3859,  4301,  3708,  4354,  8334,  2083,  7740,\n",
       "        3015,  5191,  2947, 16692,   210,  3450,  2653,  4691,  5532,\n",
       "       16525,  6700,  2873, 16667,  4350,  3095, 10833,  3547, 18333,\n",
       "        2435,  2699,  5333,  3691, 17263,  3597,  3326,  4625,  2895,\n",
       "        6283,   645,  3159,  4865,  4050,  3814, 20833,  3583, 13262,\n",
       "        3598,  6065,  3283,  2130,  5815,  2031,  3074,  4683,  3400,\n",
       "        2192,  5677,  7948,  4680, 17500,  3775,  5285,  2679,  6783,\n",
       "        4281,  3588, 11250, 18165,  2550,  6133,  3617,  6417,  4608,\n",
       "        2138,  3652,  2239,  3017,  2768,  3358,  2526,  2785,  6633,\n",
       "        2492,  2454,  3593,  5468,  2667, 10139,  3887,  4180,  3675,\n",
       "       19484,  5923,  5800,  8799,  4467,  3417,  5116, 16666,  6125,\n",
       "        6406,  3087,  3229,  1782,  3182,  6540,  1836,  1880,  2787,\n",
       "        2297,  2165,  2726,  9357, 16120,  3833,  6383,  2987,  9963,\n",
       "        5780,   416,  2894,  3676,  3987,  3232,  2900,  4106,  8072,\n",
       "        7583], dtype=int64)"
      ]
     },
     "execution_count": 19,
     "metadata": {},
     "output_type": "execute_result"
    }
   ],
   "source": [
    "data['ApplicantIncome'].unique()"
   ]
  },
  {
   "cell_type": "code",
   "execution_count": 20,
   "id": "34c5626e",
   "metadata": {},
   "outputs": [
    {
     "data": {
      "text/plain": [
       "ApplicantIncome\n",
       "2500    9\n",
       "4583    6\n",
       "6000    6\n",
       "2600    6\n",
       "3333    5\n",
       "       ..\n",
       "3244    1\n",
       "4408    1\n",
       "3917    1\n",
       "3992    1\n",
       "7583    1\n",
       "Name: count, Length: 505, dtype: int64"
      ]
     },
     "execution_count": 20,
     "metadata": {},
     "output_type": "execute_result"
    }
   ],
   "source": [
    "data['ApplicantIncome'].value_counts()"
   ]
  },
  {
   "cell_type": "code",
   "execution_count": 21,
   "id": "6f7b86fb",
   "metadata": {},
   "outputs": [
    {
     "data": {
      "text/plain": [
       "array([ nan, 128.,  66., 120., 141., 267.,  95., 158., 168., 349.,  70.,\n",
       "       109., 200., 114.,  17., 125., 100.,  76., 133., 115., 104., 315.,\n",
       "       116., 112., 151., 191., 122., 110.,  35., 201.,  74., 106., 320.,\n",
       "       144., 184.,  80.,  47.,  75., 134.,  96.,  88.,  44., 286.,  97.,\n",
       "       135., 180.,  99., 165., 258., 126., 312., 136., 172.,  81., 187.,\n",
       "       113., 176., 130., 111., 167., 265.,  50., 210., 175., 131., 188.,\n",
       "        25., 137., 160., 225., 216.,  94., 139., 152., 118., 185., 154.,\n",
       "        85., 259., 194.,  93., 370., 182., 650., 102., 290.,  84., 242.,\n",
       "       129.,  30., 244., 600., 255.,  98., 275., 121.,  63., 700.,  87.,\n",
       "       101., 495.,  67.,  73., 260., 108.,  58.,  48., 164., 170.,  83.,\n",
       "        90., 166., 124.,  55.,  59., 127., 214., 240.,  72.,  60., 138.,\n",
       "        42., 280., 140., 155., 123., 279., 192., 304., 330., 150., 207.,\n",
       "       436.,  78.,  54.,  89., 143., 105., 132., 480.,  56., 159., 300.,\n",
       "       376., 117.,  71., 490., 173.,  46., 228., 308., 236., 570., 380.,\n",
       "       296., 156., 103.,  45.,  65.,  53., 360.,  62., 218., 178., 239.,\n",
       "       405., 148., 190., 149., 153., 162., 230.,  86., 234., 246., 500.,\n",
       "       186., 119., 107., 209., 208., 243.,  40., 250., 311., 400., 161.,\n",
       "       196., 324., 157., 145., 181.,  26., 211.,   9., 205.,  36.,  61.,\n",
       "       146., 292., 142., 350., 496., 253.])"
      ]
     },
     "execution_count": 21,
     "metadata": {},
     "output_type": "execute_result"
    }
   ],
   "source": [
    "data['LoanAmount'].unique()"
   ]
  },
  {
   "cell_type": "code",
   "execution_count": 22,
   "id": "2edf5f8a",
   "metadata": {},
   "outputs": [
    {
     "data": {
      "text/plain": [
       "array([360., 120., 240.,  nan, 180.,  60., 300., 480.,  36.,  84.,  12.])"
      ]
     },
     "execution_count": 22,
     "metadata": {},
     "output_type": "execute_result"
    }
   ],
   "source": [
    "data[\"Loan_Amount_Term\"].unique()"
   ]
  },
  {
   "cell_type": "code",
   "execution_count": 23,
   "id": "12fde8ba",
   "metadata": {},
   "outputs": [
    {
     "data": {
      "text/plain": [
       "array([ 1.,  0., nan])"
      ]
     },
     "execution_count": 23,
     "metadata": {},
     "output_type": "execute_result"
    }
   ],
   "source": [
    "data['Credit_History'].unique()"
   ]
  },
  {
   "cell_type": "code",
   "execution_count": 24,
   "id": "c655f764",
   "metadata": {},
   "outputs": [
    {
     "data": {
      "text/plain": [
       "Credit_History\n",
       "1.0    475\n",
       "0.0     89\n",
       "Name: count, dtype: int64"
      ]
     },
     "execution_count": 24,
     "metadata": {},
     "output_type": "execute_result"
    }
   ],
   "source": [
    "data[\"Credit_History\"].value_counts()"
   ]
  },
  {
   "cell_type": "code",
   "execution_count": 25,
   "id": "78876914",
   "metadata": {},
   "outputs": [
    {
     "data": {
      "text/plain": [
       "array(['Urban', 'Rural', 'Semiurban'], dtype=object)"
      ]
     },
     "execution_count": 25,
     "metadata": {},
     "output_type": "execute_result"
    }
   ],
   "source": [
    "data['Property_Area'].unique()"
   ]
  },
  {
   "cell_type": "code",
   "execution_count": 26,
   "id": "592bb137",
   "metadata": {},
   "outputs": [
    {
     "data": {
      "text/plain": [
       "Property_Area\n",
       "Semiurban    233\n",
       "Urban        202\n",
       "Rural        179\n",
       "Name: count, dtype: int64"
      ]
     },
     "execution_count": 26,
     "metadata": {},
     "output_type": "execute_result"
    }
   ],
   "source": [
    "data[\"Property_Area\"].value_counts()"
   ]
  },
  {
   "cell_type": "code",
   "execution_count": 27,
   "id": "fccda645",
   "metadata": {},
   "outputs": [
    {
     "data": {
      "text/plain": [
       "array(['Y', 'N'], dtype=object)"
      ]
     },
     "execution_count": 27,
     "metadata": {},
     "output_type": "execute_result"
    }
   ],
   "source": [
    "data['Loan_Status'].unique()"
   ]
  },
  {
   "cell_type": "code",
   "execution_count": 28,
   "id": "1c9a355e",
   "metadata": {},
   "outputs": [
    {
     "data": {
      "text/plain": [
       "Loan_Status\n",
       "Y    422\n",
       "N    192\n",
       "Name: count, dtype: int64"
      ]
     },
     "execution_count": 28,
     "metadata": {},
     "output_type": "execute_result"
    }
   ],
   "source": [
    "data['Loan_Status'].value_counts()"
   ]
  },
  {
   "cell_type": "code",
   "execution_count": 29,
   "id": "78e4cfa9",
   "metadata": {},
   "outputs": [],
   "source": [
    "continous=['ApplicantIncome','CoapplicantIncome','LoanAmount']\n",
    "dicrete_categorical=['Gender','Married','Education','Self_Employed',\n",
    "                    'Credit_History','Property_Area','Loan_Status']\n",
    "discrete_count=['Dependents','Loan_Amount_Term']"
   ]
  },
  {
   "cell_type": "markdown",
   "id": "76eefb1e",
   "metadata": {},
   "source": [
    "## Exploratory Data Analysis(EDA)\n",
    " - For continous Variables"
   ]
  },
  {
   "cell_type": "code",
   "execution_count": 30,
   "id": "2619ea55",
   "metadata": {},
   "outputs": [
    {
     "data": {
      "text/html": [
       "<div>\n",
       "<style scoped>\n",
       "    .dataframe tbody tr th:only-of-type {\n",
       "        vertical-align: middle;\n",
       "    }\n",
       "\n",
       "    .dataframe tbody tr th {\n",
       "        vertical-align: top;\n",
       "    }\n",
       "\n",
       "    .dataframe thead th {\n",
       "        text-align: right;\n",
       "    }\n",
       "</style>\n",
       "<table border=\"1\" class=\"dataframe\">\n",
       "  <thead>\n",
       "    <tr style=\"text-align: right;\">\n",
       "      <th></th>\n",
       "      <th>ApplicantIncome</th>\n",
       "      <th>CoapplicantIncome</th>\n",
       "      <th>LoanAmount</th>\n",
       "    </tr>\n",
       "  </thead>\n",
       "  <tbody>\n",
       "    <tr>\n",
       "      <th>count</th>\n",
       "      <td>614.000000</td>\n",
       "      <td>614.000000</td>\n",
       "      <td>592.000000</td>\n",
       "    </tr>\n",
       "    <tr>\n",
       "      <th>mean</th>\n",
       "      <td>5403.459283</td>\n",
       "      <td>1621.245798</td>\n",
       "      <td>146.412162</td>\n",
       "    </tr>\n",
       "    <tr>\n",
       "      <th>std</th>\n",
       "      <td>6109.041673</td>\n",
       "      <td>2926.248369</td>\n",
       "      <td>85.587325</td>\n",
       "    </tr>\n",
       "    <tr>\n",
       "      <th>min</th>\n",
       "      <td>150.000000</td>\n",
       "      <td>0.000000</td>\n",
       "      <td>9.000000</td>\n",
       "    </tr>\n",
       "    <tr>\n",
       "      <th>25%</th>\n",
       "      <td>2877.500000</td>\n",
       "      <td>0.000000</td>\n",
       "      <td>100.000000</td>\n",
       "    </tr>\n",
       "    <tr>\n",
       "      <th>50%</th>\n",
       "      <td>3812.500000</td>\n",
       "      <td>1188.500000</td>\n",
       "      <td>128.000000</td>\n",
       "    </tr>\n",
       "    <tr>\n",
       "      <th>75%</th>\n",
       "      <td>5795.000000</td>\n",
       "      <td>2297.250000</td>\n",
       "      <td>168.000000</td>\n",
       "    </tr>\n",
       "    <tr>\n",
       "      <th>max</th>\n",
       "      <td>81000.000000</td>\n",
       "      <td>41667.000000</td>\n",
       "      <td>700.000000</td>\n",
       "    </tr>\n",
       "  </tbody>\n",
       "</table>\n",
       "</div>"
      ],
      "text/plain": [
       "       ApplicantIncome  CoapplicantIncome  LoanAmount\n",
       "count       614.000000         614.000000  592.000000\n",
       "mean       5403.459283        1621.245798  146.412162\n",
       "std        6109.041673        2926.248369   85.587325\n",
       "min         150.000000           0.000000    9.000000\n",
       "25%        2877.500000           0.000000  100.000000\n",
       "50%        3812.500000        1188.500000  128.000000\n",
       "75%        5795.000000        2297.250000  168.000000\n",
       "max       81000.000000       41667.000000  700.000000"
      ]
     },
     "execution_count": 30,
     "metadata": {},
     "output_type": "execute_result"
    }
   ],
   "source": [
    "data[continous].describe()"
   ]
  },
  {
   "cell_type": "code",
   "execution_count": 31,
   "id": "829d5f18",
   "metadata": {},
   "outputs": [
    {
     "data": {
      "image/png": "[encoded data removed]",
      "text/plain": [
       "<Figure size 1800x800 with 3 Axes>"
      ]
     },
     "metadata": {},
     "output_type": "display_data"
    }
   ],
   "source": [
    "plt.rcParams['figure.figsize']=(18,8)\n",
    "\n",
    "plt.subplot(1,3, 1)\n",
    "sns.histplot(data['ApplicantIncome'],kde=True)\n",
    "\n",
    "\n",
    "plt.subplot(1,3,2)\n",
    "sns.histplot(data['CoapplicantIncome'],kde=True)\n",
    "\n",
    "plt.subplot(1,3,3)\n",
    "sns.histplot(data['LoanAmount'],kde=True)\n",
    "\n",
    "plt.suptitle('Univariate Analysis on Numerical Columns')\n",
    "plt.show()"
   ]
  },
  {
   "cell_type": "code",
   "execution_count": 32,
   "id": "bb62e40e",
   "metadata": {},
   "outputs": [
    {
     "data": {
      "text/plain": [
       "ApplicantIncome      6.539513\n",
       "CoapplicantIncome    7.491531\n",
       "LoanAmount           2.677552\n",
       "dtype: float64"
      ]
     },
     "execution_count": 32,
     "metadata": {},
     "output_type": "execute_result"
    }
   ],
   "source": [
    "data[continous].skew()"
   ]
  },
  {
   "cell_type": "code",
   "execution_count": 33,
   "id": "dc8c2661",
   "metadata": {},
   "outputs": [
    {
     "data": {
      "image/png": "[encoded data removed]",
      "text/plain": [
       "<Figure size 750x750 with 12 Axes>"
      ]
     },
     "metadata": {},
     "output_type": "display_data"
    }
   ],
   "source": [
    "sns.pairplot(data[continous])\n",
    "plt.show()"
   ]
  },
  {
   "cell_type": "code",
   "execution_count": 34,
   "id": "f7e5d680",
   "metadata": {},
   "outputs": [
    {
     "data": {
      "image/png": "[encoded data removed]",
      "text/plain": [
       "<Figure size 1800x800 with 2 Axes>"
      ]
     },
     "metadata": {},
     "output_type": "display_data"
    }
   ],
   "source": [
    "sns.heatmap(data[continous].corr(),annot=True)\n",
    "plt.show()"
   ]
  },
  {
   "cell_type": "code",
   "execution_count": 35,
   "id": "8b53891d",
   "metadata": {},
   "outputs": [],
   "source": [
    "## Lets Visulize the outlier using Box plot"
   ]
  },
  {
   "cell_type": "code",
   "execution_count": 36,
   "id": "d61e392e",
   "metadata": {},
   "outputs": [
    {
     "data": {
      "image/png": "[encoded data removed]",
      "text/plain": [
       "<Figure size 1800x800 with 3 Axes>"
      ]
     },
     "metadata": {},
     "output_type": "display_data"
    }
   ],
   "source": [
    "plt.subplot(1,3,1)\n",
    "sns.boxplot(data['ApplicantIncome'])\n",
    "\n",
    "plt.subplot(1,3,2)\n",
    "sns.boxplot(data['CoapplicantIncome'])\n",
    "\n",
    "\n",
    "plt.subplot(1,3,3)\n",
    "sns.boxplot(data['LoanAmount'])\n",
    "            \n",
    "plt.suptitle(\"Outlier in the data \")\n",
    "plt.show()            "
   ]
  },
  {
   "cell_type": "code",
   "execution_count": 37,
   "id": "bdfcd78a",
   "metadata": {},
   "outputs": [
    {
     "data": {
      "text/html": [
       "<div>\n",
       "<style scoped>\n",
       "    .dataframe tbody tr th:only-of-type {\n",
       "        vertical-align: middle;\n",
       "    }\n",
       "\n",
       "    .dataframe tbody tr th {\n",
       "        vertical-align: top;\n",
       "    }\n",
       "\n",
       "    .dataframe thead th {\n",
       "        text-align: right;\n",
       "    }\n",
       "</style>\n",
       "<table border=\"1\" class=\"dataframe\">\n",
       "  <thead>\n",
       "    <tr style=\"text-align: right;\">\n",
       "      <th></th>\n",
       "      <th>Credit_History</th>\n",
       "    </tr>\n",
       "  </thead>\n",
       "  <tbody>\n",
       "    <tr>\n",
       "      <th>count</th>\n",
       "      <td>564.000000</td>\n",
       "    </tr>\n",
       "    <tr>\n",
       "      <th>mean</th>\n",
       "      <td>0.842199</td>\n",
       "    </tr>\n",
       "    <tr>\n",
       "      <th>std</th>\n",
       "      <td>0.364878</td>\n",
       "    </tr>\n",
       "    <tr>\n",
       "      <th>min</th>\n",
       "      <td>0.000000</td>\n",
       "    </tr>\n",
       "    <tr>\n",
       "      <th>25%</th>\n",
       "      <td>1.000000</td>\n",
       "    </tr>\n",
       "    <tr>\n",
       "      <th>50%</th>\n",
       "      <td>1.000000</td>\n",
       "    </tr>\n",
       "    <tr>\n",
       "      <th>75%</th>\n",
       "      <td>1.000000</td>\n",
       "    </tr>\n",
       "    <tr>\n",
       "      <th>max</th>\n",
       "      <td>1.000000</td>\n",
       "    </tr>\n",
       "  </tbody>\n",
       "</table>\n",
       "</div>"
      ],
      "text/plain": [
       "       Credit_History\n",
       "count      564.000000\n",
       "mean         0.842199\n",
       "std          0.364878\n",
       "min          0.000000\n",
       "25%          1.000000\n",
       "50%          1.000000\n",
       "75%          1.000000\n",
       "max          1.000000"
      ]
     },
     "execution_count": 37,
     "metadata": {},
     "output_type": "execute_result"
    }
   ],
   "source": [
    "data[dicrete_categorical].describe()"
   ]
  },
  {
   "cell_type": "code",
   "execution_count": 38,
   "id": "f8b3a26b",
   "metadata": {},
   "outputs": [
    {
     "data": {
      "image/png": "[encoded data removed]",
      "text/plain": [
       "<Figure size 2500x1500 with 6 Axes>"
      ]
     },
     "metadata": {},
     "output_type": "display_data"
    }
   ],
   "source": [
    "# Set the figure size\n",
    "plt.rcParams['figure.figsize'] = (25, 15)\n",
    "\n",
    "# Assuming `data` is your DataFrame containing the categorical columns\n",
    "\n",
    "# Create subplots\n",
    "plt.subplot(2, 3, 1)\n",
    "sns.countplot(x='Gender', data=data)\n",
    "plt.title('Gender')\n",
    "\n",
    "plt.subplot(2, 3, 2)\n",
    "sns.countplot(x='Married', data=data)\n",
    "plt.title('Married')\n",
    "\n",
    "plt.subplot(2, 3, 3)\n",
    "sns.countplot(x='Education', data=data)\n",
    "plt.title('Education')\n",
    "\n",
    "plt.subplot(2, 3, 4)\n",
    "sns.countplot(x='Self_Employed', data=data)\n",
    "plt.title('Self Employed')\n",
    "\n",
    "plt.subplot(2, 3, 5)  # Adjusted the subplot index from 6 to 5\n",
    "sns.countplot(x='Property_Area', data=data)\n",
    "plt.title('Property Area')\n",
    "\n",
    "plt.subplot(2, 3, 6)  # Adjusted the subplot index from 7 to 6\n",
    "sns.countplot(x='Loan_Status', data=data)\n",
    "plt.title('Loan Status')\n",
    "\n",
    "# Add a super title for the entire figure\n",
    "plt.suptitle(\"Univariate Analysis on Categorical Columns\")\n",
    "plt.show()\n"
   ]
  },
  {
   "cell_type": "markdown",
   "id": "5623f9f6",
   "metadata": {},
   "source": [
    "## Data Preparation"
   ]
  },
  {
   "cell_type": "code",
   "execution_count": 39,
   "id": "2a19c90b",
   "metadata": {},
   "outputs": [],
   "source": [
    "data[\"Income\"] = data[\"ApplicantIncome\"]+data[\"CoapplicantIncome\"]\n",
    "data.drop(columns=['ApplicantIncome','CoapplicantIncome'],inplace=True)"
   ]
  },
  {
   "cell_type": "markdown",
   "id": "1b21e0f9",
   "metadata": {},
   "source": [
    "## Modifying the wrong data"
   ]
  },
  {
   "cell_type": "code",
   "execution_count": 40,
   "id": "ba4009bb",
   "metadata": {},
   "outputs": [],
   "source": [
    "data['Dependents'] = data['Dependents'].replace({'3+':3})"
   ]
  },
  {
   "cell_type": "markdown",
   "id": "5c882d46",
   "metadata": {},
   "source": [
    "## Missing Values Treatment"
   ]
  },
  {
   "cell_type": "code",
   "execution_count": 41,
   "id": "244ed21b",
   "metadata": {},
   "outputs": [
    {
     "data": {
      "text/plain": [
       "Gender              13\n",
       "Married              3\n",
       "Dependents          15\n",
       "Education            0\n",
       "Self_Employed       32\n",
       "LoanAmount          22\n",
       "Loan_Amount_Term    14\n",
       "Credit_History      50\n",
       "Property_Area        0\n",
       "Loan_Status          0\n",
       "Income               0\n",
       "dtype: int64"
      ]
     },
     "execution_count": 41,
     "metadata": {},
     "output_type": "execute_result"
    }
   ],
   "source": [
    "data.isnull().sum()"
   ]
  },
  {
   "cell_type": "code",
   "execution_count": 42,
   "id": "64c10c3e",
   "metadata": {},
   "outputs": [
    {
     "data": {
      "text/plain": [
       "Gender              2.117264\n",
       "Married             0.488599\n",
       "Dependents          2.442997\n",
       "Education           0.000000\n",
       "Self_Employed       5.211726\n",
       "LoanAmount          3.583062\n",
       "Loan_Amount_Term    2.280130\n",
       "Credit_History      8.143322\n",
       "Property_Area       0.000000\n",
       "Loan_Status         0.000000\n",
       "Income              0.000000\n",
       "dtype: float64"
      ]
     },
     "execution_count": 42,
     "metadata": {},
     "output_type": "execute_result"
    }
   ],
   "source": [
    "data.isnull().sum()/len(data)*100"
   ]
  },
  {
   "cell_type": "code",
   "execution_count": 43,
   "id": "438eb816",
   "metadata": {},
   "outputs": [],
   "source": [
    "## count variable replace with 0\n",
    "data=data.dropna(subset=['Income','LoanAmount','Loan_Amount_Term','Credit_History'])"
   ]
  },
  {
   "cell_type": "code",
   "execution_count": 44,
   "id": "4cbe2bee",
   "metadata": {},
   "outputs": [],
   "source": [
    "## count variables replace with zero\n",
    "data['Dependents'] = data['Dependents'].fillna(0)"
   ]
  },
  {
   "cell_type": "code",
   "execution_count": 45,
   "id": "7fcc7b6d",
   "metadata": {},
   "outputs": [],
   "source": [
    "## categorical variable replace with mode\n",
    "data['Gender']=data['Gender'].fillna(data['Gender'].mode()[0])\n",
    "data['Married']=data['Married'].fillna(data['Married'].mode()[0])\n",
    "data['Self_Employed']=data['Self_Employed'].fillna(data['Self_Employed'].mode()[0])\n"
   ]
  },
  {
   "cell_type": "code",
   "execution_count": 46,
   "id": "f58716a9",
   "metadata": {
    "scrolled": false
   },
   "outputs": [
    {
     "data": {
      "text/plain": [
       "Gender              0\n",
       "Married             0\n",
       "Dependents          0\n",
       "Education           0\n",
       "Self_Employed       0\n",
       "LoanAmount          0\n",
       "Loan_Amount_Term    0\n",
       "Credit_History      0\n",
       "Property_Area       0\n",
       "Loan_Status         0\n",
       "Income              0\n",
       "dtype: int64"
      ]
     },
     "execution_count": 46,
     "metadata": {},
     "output_type": "execute_result"
    }
   ],
   "source": [
    "data.isnull().sum()"
   ]
  },
  {
   "cell_type": "code",
   "execution_count": 47,
   "id": "7487e402",
   "metadata": {},
   "outputs": [
    {
     "data": {
      "text/html": [
       "<div>\n",
       "<style scoped>\n",
       "    .dataframe tbody tr th:only-of-type {\n",
       "        vertical-align: middle;\n",
       "    }\n",
       "\n",
       "    .dataframe tbody tr th {\n",
       "        vertical-align: top;\n",
       "    }\n",
       "\n",
       "    .dataframe thead th {\n",
       "        text-align: right;\n",
       "    }\n",
       "</style>\n",
       "<table border=\"1\" class=\"dataframe\">\n",
       "  <thead>\n",
       "    <tr style=\"text-align: right;\">\n",
       "      <th></th>\n",
       "      <th>Gender</th>\n",
       "      <th>Married</th>\n",
       "      <th>Dependents</th>\n",
       "      <th>Education</th>\n",
       "      <th>Self_Employed</th>\n",
       "      <th>LoanAmount</th>\n",
       "      <th>Loan_Amount_Term</th>\n",
       "      <th>Credit_History</th>\n",
       "      <th>Property_Area</th>\n",
       "      <th>Loan_Status</th>\n",
       "      <th>Income</th>\n",
       "    </tr>\n",
       "  </thead>\n",
       "  <tbody>\n",
       "    <tr>\n",
       "      <th>1</th>\n",
       "      <td>Male</td>\n",
       "      <td>Yes</td>\n",
       "      <td>1</td>\n",
       "      <td>Graduate</td>\n",
       "      <td>No</td>\n",
       "      <td>128.0</td>\n",
       "      <td>360.0</td>\n",
       "      <td>1.0</td>\n",
       "      <td>Rural</td>\n",
       "      <td>N</td>\n",
       "      <td>6091.0</td>\n",
       "    </tr>\n",
       "    <tr>\n",
       "      <th>2</th>\n",
       "      <td>Male</td>\n",
       "      <td>Yes</td>\n",
       "      <td>0</td>\n",
       "      <td>Graduate</td>\n",
       "      <td>Yes</td>\n",
       "      <td>66.0</td>\n",
       "      <td>360.0</td>\n",
       "      <td>1.0</td>\n",
       "      <td>Urban</td>\n",
       "      <td>Y</td>\n",
       "      <td>3000.0</td>\n",
       "    </tr>\n",
       "    <tr>\n",
       "      <th>3</th>\n",
       "      <td>Male</td>\n",
       "      <td>Yes</td>\n",
       "      <td>0</td>\n",
       "      <td>Not Graduate</td>\n",
       "      <td>No</td>\n",
       "      <td>120.0</td>\n",
       "      <td>360.0</td>\n",
       "      <td>1.0</td>\n",
       "      <td>Urban</td>\n",
       "      <td>Y</td>\n",
       "      <td>4941.0</td>\n",
       "    </tr>\n",
       "    <tr>\n",
       "      <th>4</th>\n",
       "      <td>Male</td>\n",
       "      <td>No</td>\n",
       "      <td>0</td>\n",
       "      <td>Graduate</td>\n",
       "      <td>No</td>\n",
       "      <td>141.0</td>\n",
       "      <td>360.0</td>\n",
       "      <td>1.0</td>\n",
       "      <td>Urban</td>\n",
       "      <td>Y</td>\n",
       "      <td>6000.0</td>\n",
       "    </tr>\n",
       "    <tr>\n",
       "      <th>5</th>\n",
       "      <td>Male</td>\n",
       "      <td>Yes</td>\n",
       "      <td>2</td>\n",
       "      <td>Graduate</td>\n",
       "      <td>Yes</td>\n",
       "      <td>267.0</td>\n",
       "      <td>360.0</td>\n",
       "      <td>1.0</td>\n",
       "      <td>Urban</td>\n",
       "      <td>Y</td>\n",
       "      <td>9613.0</td>\n",
       "    </tr>\n",
       "    <tr>\n",
       "      <th>...</th>\n",
       "      <td>...</td>\n",
       "      <td>...</td>\n",
       "      <td>...</td>\n",
       "      <td>...</td>\n",
       "      <td>...</td>\n",
       "      <td>...</td>\n",
       "      <td>...</td>\n",
       "      <td>...</td>\n",
       "      <td>...</td>\n",
       "      <td>...</td>\n",
       "      <td>...</td>\n",
       "    </tr>\n",
       "    <tr>\n",
       "      <th>230</th>\n",
       "      <td>Male</td>\n",
       "      <td>Yes</td>\n",
       "      <td>1</td>\n",
       "      <td>Graduate</td>\n",
       "      <td>No</td>\n",
       "      <td>104.0</td>\n",
       "      <td>360.0</td>\n",
       "      <td>1.0</td>\n",
       "      <td>Semiurban</td>\n",
       "      <td>Y</td>\n",
       "      <td>4545.0</td>\n",
       "    </tr>\n",
       "    <tr>\n",
       "      <th>231</th>\n",
       "      <td>Male</td>\n",
       "      <td>Yes</td>\n",
       "      <td>0</td>\n",
       "      <td>Graduate</td>\n",
       "      <td>No</td>\n",
       "      <td>42.0</td>\n",
       "      <td>180.0</td>\n",
       "      <td>1.0</td>\n",
       "      <td>Rural</td>\n",
       "      <td>Y</td>\n",
       "      <td>3716.0</td>\n",
       "    </tr>\n",
       "    <tr>\n",
       "      <th>233</th>\n",
       "      <td>Female</td>\n",
       "      <td>No</td>\n",
       "      <td>0</td>\n",
       "      <td>Graduate</td>\n",
       "      <td>No</td>\n",
       "      <td>280.0</td>\n",
       "      <td>360.0</td>\n",
       "      <td>1.0</td>\n",
       "      <td>Semiurban</td>\n",
       "      <td>Y</td>\n",
       "      <td>8333.0</td>\n",
       "    </tr>\n",
       "    <tr>\n",
       "      <th>234</th>\n",
       "      <td>Male</td>\n",
       "      <td>Yes</td>\n",
       "      <td>1</td>\n",
       "      <td>Graduate</td>\n",
       "      <td>No</td>\n",
       "      <td>140.0</td>\n",
       "      <td>360.0</td>\n",
       "      <td>1.0</td>\n",
       "      <td>Semiurban</td>\n",
       "      <td>Y</td>\n",
       "      <td>4934.0</td>\n",
       "    </tr>\n",
       "    <tr>\n",
       "      <th>235</th>\n",
       "      <td>Male</td>\n",
       "      <td>Yes</td>\n",
       "      <td>1</td>\n",
       "      <td>Graduate</td>\n",
       "      <td>No</td>\n",
       "      <td>170.0</td>\n",
       "      <td>360.0</td>\n",
       "      <td>1.0</td>\n",
       "      <td>Rural</td>\n",
       "      <td>Y</td>\n",
       "      <td>6760.0</td>\n",
       "    </tr>\n",
       "  </tbody>\n",
       "</table>\n",
       "<p>200 rows × 11 columns</p>\n",
       "</div>"
      ],
      "text/plain": [
       "     Gender Married Dependents     Education Self_Employed  LoanAmount  \\\n",
       "1      Male     Yes          1      Graduate            No       128.0   \n",
       "2      Male     Yes          0      Graduate           Yes        66.0   \n",
       "3      Male     Yes          0  Not Graduate            No       120.0   \n",
       "4      Male      No          0      Graduate            No       141.0   \n",
       "5      Male     Yes          2      Graduate           Yes       267.0   \n",
       "..      ...     ...        ...           ...           ...         ...   \n",
       "230    Male     Yes          1      Graduate            No       104.0   \n",
       "231    Male     Yes          0      Graduate            No        42.0   \n",
       "233  Female      No          0      Graduate            No       280.0   \n",
       "234    Male     Yes          1      Graduate            No       140.0   \n",
       "235    Male     Yes          1      Graduate            No       170.0   \n",
       "\n",
       "     Loan_Amount_Term  Credit_History Property_Area Loan_Status  Income  \n",
       "1               360.0             1.0         Rural           N  6091.0  \n",
       "2               360.0             1.0         Urban           Y  3000.0  \n",
       "3               360.0             1.0         Urban           Y  4941.0  \n",
       "4               360.0             1.0         Urban           Y  6000.0  \n",
       "5               360.0             1.0         Urban           Y  9613.0  \n",
       "..                ...             ...           ...         ...     ...  \n",
       "230             360.0             1.0     Semiurban           Y  4545.0  \n",
       "231             180.0             1.0         Rural           Y  3716.0  \n",
       "233             360.0             1.0     Semiurban           Y  8333.0  \n",
       "234             360.0             1.0     Semiurban           Y  4934.0  \n",
       "235             360.0             1.0         Rural           Y  6760.0  \n",
       "\n",
       "[200 rows x 11 columns]"
      ]
     },
     "execution_count": 47,
     "metadata": {},
     "output_type": "execute_result"
    }
   ],
   "source": [
    "data.head(200)"
   ]
  },
  {
   "cell_type": "code",
   "execution_count": 48,
   "id": "e84eb97b",
   "metadata": {},
   "outputs": [],
   "source": [
    "# Remove rows with None values in specific columns, e.g., 'Gender' and 'Married'\n",
    "data_cleaned = data.dropna(subset=['Gender', 'Married','Self_Employed','Dependents','Credit_History'])\n"
   ]
  },
  {
   "cell_type": "markdown",
   "id": "c31b1250",
   "metadata": {},
   "source": [
    "## Encoding"
   ]
  },
  {
   "cell_type": "code",
   "execution_count": 49,
   "id": "deb1d257",
   "metadata": {},
   "outputs": [],
   "source": [
    "data[\"Gender\"]=data[\"Gender\"].map({\"Male\":1,'Female':0})\n",
    "data[\"Education\"]=data[\"Education\"].map({'Graduate':1,'Not Graduate':0})\n",
    "data['Married']=data['Married'].map({'Yes':1,'No':0})\n",
    "data['Self_Employed']=data['Self_Employed'].map({'Yes':1,'No':0})\n",
    "data['Property_Area']=data['Property_Area'].map({'Rural':0,'Semiurban':1,'Urban':2})\n",
    "data['Loan_Status']=data['Loan_Status'].map({'Y':1,'N':0})"
   ]
  },
  {
   "cell_type": "code",
   "execution_count": 50,
   "id": "4ccd0763",
   "metadata": {},
   "outputs": [],
   "source": [
    "data['Dependents']=data['Dependents'].astype('int')\n",
    "data['Loan_Amount_Term']=data[\"Loan_Amount_Term\"].astype('int')"
   ]
  },
  {
   "cell_type": "code",
   "execution_count": 51,
   "id": "2a9d86a4",
   "metadata": {},
   "outputs": [],
   "source": [
    "data['Loan_Amount_Term']=data['Loan_Amount_Term']/12"
   ]
  },
  {
   "cell_type": "code",
   "execution_count": 52,
   "id": "226ea2a7",
   "metadata": {},
   "outputs": [
    {
     "data": {
      "text/plain": [
       "5.777628425613762"
      ]
     },
     "execution_count": 52,
     "metadata": {},
     "output_type": "execute_result"
    }
   ],
   "source": [
    "data['Income'].skew()"
   ]
  },
  {
   "cell_type": "code",
   "execution_count": 53,
   "id": "261b0fab",
   "metadata": {},
   "outputs": [
    {
     "data": {
      "text/plain": [
       "2.6079450669733437"
      ]
     },
     "execution_count": 53,
     "metadata": {},
     "output_type": "execute_result"
    }
   ],
   "source": [
    "data['LoanAmount'].skew()"
   ]
  },
  {
   "cell_type": "code",
   "execution_count": 54,
   "id": "662fe61b",
   "metadata": {},
   "outputs": [],
   "source": [
    "from scipy.stats import boxcox\n",
    "data['Income'],a=boxcox(data['Income'])\n",
    "data['LoanAmount'],c=boxcox(data['LoanAmount'])                           \n",
    "                           "
   ]
  },
  {
   "cell_type": "code",
   "execution_count": 55,
   "id": "720aecd1",
   "metadata": {},
   "outputs": [
    {
     "data": {
      "text/plain": [
       "LoanAmount    0.038289\n",
       "Income       -0.027769\n",
       "dtype: float64"
      ]
     },
     "execution_count": 55,
     "metadata": {},
     "output_type": "execute_result"
    }
   ],
   "source": [
    "data[['LoanAmount','Income']].skew()"
   ]
  },
  {
   "cell_type": "code",
   "execution_count": 56,
   "id": "d4ed493a",
   "metadata": {},
   "outputs": [],
   "source": [
    "x=data.drop('Loan_Status',axis=1)\n",
    "y=data['Loan_Status']"
   ]
  },
  {
   "cell_type": "code",
   "execution_count": 57,
   "id": "b5217253",
   "metadata": {},
   "outputs": [
    {
     "name": "stdout",
     "output_type": "stream",
     "text": [
      "Best random_state number: 70\n"
     ]
    }
   ],
   "source": [
    "import pandas as pd\n",
    "from sklearn.model_selection import train_test_split, cross_val_score\n",
    "from sklearn.linear_model import LogisticRegression\n",
    "from sklearn.metrics import accuracy_score\n",
    "\n",
    "# Initialize lists to store metrics for different random states\n",
    "Train = []\n",
    "Test = []\n",
    "CV = []\n",
    "\n",
    "# Loop over random states from 1 to 100\n",
    "for i in range(1, 101):\n",
    "    # Split the data with the current random state\n",
    "    x_train, x_test, y_train, y_test = train_test_split(x, y, test_size=0.2, random_state=i)\n",
    "    \n",
    "    # Initialize and train the logistic regression model\n",
    "    log_default = LogisticRegression()\n",
    "    log_default.fit(x_train, y_train)\n",
    "    \n",
    "    # Make predictions\n",
    "    ypred_train = log_default.predict(x_train)\n",
    "    ypred_test = log_default.predict(x_test)\n",
    "    \n",
    "    # Calculate accuracy scores\n",
    "    Train.append(accuracy_score(y_train, ypred_train))\n",
    "    Test.append(accuracy_score(y_test, ypred_test))\n",
    "    \n",
    "    # Calculate cross-validation scores\n",
    "    cv_scores = cross_val_score(log_default, x_train, y_train, cv=5, scoring='accuracy')\n",
    "    CV.append(cv_scores.mean())\n",
    "\n",
    "# Create a DataFrame to store all the metrics\n",
    "em = pd.DataFrame({\"Train\": Train, \"Test\": Test, \"CV\": CV})\n",
    "\n",
    "# Filter the DataFrame based on the specified criteria\n",
    "gm = em[(abs(em['Train'] - em['Test']) <= 0.05) & (abs(em['Test'] - em['CV']) <= 0.05)]\n",
    "\n",
    "# Find the index of the best random state\n",
    "if not gm.empty:\n",
    "    rs = gm[gm[\"CV\"] == gm[\"CV\"].max()].index.to_list()[0] + 1\n",
    "    print(\"Best random_state number:\", rs)\n",
    "else:\n",
    "    print(\"No suitable random state found.\")\n"
   ]
  },
  {
   "cell_type": "markdown",
   "id": "e71418fe",
   "metadata": {},
   "source": [
    "#### Train test split"
   ]
  },
  {
   "cell_type": "code",
   "execution_count": 58,
   "id": "c55230ea",
   "metadata": {},
   "outputs": [],
   "source": [
    "from sklearn.model_selection import train_test_split\n",
    "x_train,x_test,y_train,y_test=train_test_split(x,y,test_size=0.2,random_state=70)"
   ]
  },
  {
   "cell_type": "markdown",
   "id": "c2639d84",
   "metadata": {},
   "source": [
    "## Machine learining Modeling & Evalution"
   ]
  },
  {
   "cell_type": "markdown",
   "id": "28086e83",
   "metadata": {},
   "source": [
    "### Logistic Regression"
   ]
  },
  {
   "cell_type": "code",
   "execution_count": 59,
   "id": "c3227afc",
   "metadata": {},
   "outputs": [
    {
     "name": "stdout",
     "output_type": "stream",
     "text": [
      "Train Accuracy : 0.6501182033096927\n",
      "Cross Validation Score: [0.82352941 0.8        0.81176471 0.83333333 0.8452381 ]\n",
      "Test Accuracy: 0.7830188679245284\n"
     ]
    }
   ],
   "source": [
    "from sklearn.linear_model import  LogisticRegression\n",
    "log_model=  LogisticRegression()\n",
    "log_model.fit(x_train,y_train)\n",
    "\n",
    "\n",
    "yprad_train=log_model.predict(x_train)\n",
    "ypred_test=log_model.predict(x_test)\n",
    "\n",
    "print(\"Train Accuracy :\",accuracy_score(y_train,ypred_train))\n",
    "print(\"Cross Validation Score:\",cross_val_score(log_model,x_train,y_train,\n",
    "                                               cv=5,scoring='accuracy'))\n",
    "print('Test Accuracy:',accuracy_score(y_test,ypred_test))"
   ]
  },
  {
   "cell_type": "code",
   "execution_count": 60,
   "id": "eff57ddf",
   "metadata": {},
   "outputs": [],
   "source": [
    "from sklearn.neighbors import KNeighborsClassifier\n",
    "estimator =  KNeighborsClassifier()\n",
    "param_grid = {'n_neighbors': list(range(1,50))}"
   ]
  },
  {
   "cell_type": "code",
   "execution_count": 61,
   "id": "4abe1acd",
   "metadata": {},
   "outputs": [
    {
     "name": "stdout",
     "output_type": "stream",
     "text": [
      "Train Accuracy : 0.7541371158392435\n",
      "cross validation score : [0.72941176 0.74117647 0.74117647 0.73809524 0.73809524]\n",
      "Test Accuracy : 0.7075471698113207\n"
     ]
    }
   ],
   "source": [
    "from sklearn.model_selection import  GridSearchCV\n",
    "knn_grid =  GridSearchCV(estimator,param_grid,scoring='accuracy',cv=5)\n",
    "knn_grid.fit(x_train,y_train)\n",
    "\n",
    "knn_model =knn_grid.best_estimator_\n",
    "\n",
    "ypred_train = knn_model.predict(x_train)\n",
    "ypred_test = knn_model.predict(x_test)\n",
    "\n",
    "print(\"Train Accuracy :\",accuracy_score(y_train,ypred_train))\n",
    "print(\"cross validation score :\",cross_val_score(knn_model,x_train,y_train,cv=5,\n",
    "                                                scoring='accuracy'))\n",
    "print('Test Accuracy :',accuracy_score(y_test,ypred_test))"
   ]
  },
  {
   "cell_type": "markdown",
   "id": "c17bb269",
   "metadata": {},
   "source": [
    "## Support vactor machine(SVM)"
   ]
  },
  {
   "cell_type": "code",
   "execution_count": 62,
   "id": "00cdbd5f",
   "metadata": {},
   "outputs": [
    {
     "name": "stdout",
     "output_type": "stream",
     "text": [
      "Train Accuracy: 0.8226950354609929\n",
      "Cross Validation Score: 0.8227731092436976\n",
      "Test Accuracy: 0.7830188679245284\n"
     ]
    }
   ],
   "source": [
    "from sklearn.svm import SVC\n",
    "from sklearn.model_selection import GridSearchCV, cross_val_score\n",
    "from sklearn.metrics import accuracy_score\n",
    "\n",
    "# Define the estimator\n",
    "estimator = SVC()\n",
    "\n",
    "# Define the parameter grid with correct parameter names\n",
    "param_grid = {'C': [0.01, 0.1, 1], 'kernel': ['linear', 'rbf', 'sigmoid', 'poly']}\n",
    "\n",
    "# Initialize the GridSearchCV object\n",
    "svm_grid = GridSearchCV(estimator, param_grid, scoring='accuracy', cv=5)\n",
    "\n",
    "# Fit the grid search to the training data\n",
    "svm_grid.fit(x_train, y_train)\n",
    "\n",
    "# Get the best estimator found by GridSearchCV\n",
    "svm_model = svm_grid.best_estimator_\n",
    "\n",
    "# Make predictions on the training and test sets\n",
    "ypred_train = svm_model.predict(x_train)\n",
    "ypred_test = svm_model.predict(x_test)\n",
    "\n",
    "# Calculate and print accuracy scores\n",
    "print(\"Train Accuracy:\", accuracy_score(y_train, ypred_train))\n",
    "print(\"Cross Validation Score:\", cross_val_score(svm_model, x_train, y_train, cv=5, scoring='accuracy').mean())\n",
    "print(\"Test Accuracy:\", accuracy_score(y_test, ypred_test))\n"
   ]
  },
  {
   "cell_type": "markdown",
   "id": "227900ae",
   "metadata": {},
   "source": [
    "### Decision Tree Classifier"
   ]
  },
  {
   "cell_type": "code",
   "execution_count": 63,
   "id": "f85a7b59",
   "metadata": {},
   "outputs": [
    {
     "name": "stdout",
     "output_type": "stream",
     "text": [
      "Train Accuracy: 0.8226950354609929\n",
      "Cross Validation Score: 0.8227731092436976\n",
      "Test Accuracy: 0.7830188679245284\n"
     ]
    }
   ],
   "source": [
    "from sklearn.tree import DecisionTreeClassifier\n",
    "estmator = DecisionTreeClassifier(random_state=rs)\n",
    "param_grid = {\"criterion\":[\"gini\",\"entropy\"],\"max_depth\":list(range(1,16))} \n",
    "\n",
    "\n",
    "from sklearn.tree import DecisionTreeClassifier\n",
    "from sklearn.model_selection import GridSearchCV, cross_val_score\n",
    "from sklearn.metrics import accuracy_score\n",
    "\n",
    "estimator = DecisionTreeClassifier()\n",
    "\n",
    "# Initialize the GridSearchCV object\n",
    "dt_grid = GridSearchCV(estimator, param_grid, scoring='accuracy', cv=5)\n",
    "\n",
    "# Fit the grid search to the training data\n",
    "dt_grid.fit(x_train, y_train)\n",
    "\n",
    "# Get the best estimator found by GridSearchCV\n",
    "dt = dt_grid.best_estimator_\n",
    "\n",
    "# Get feature importances from the best estimator\n",
    "dt_fi = dt.feature_importances_\n",
    "\n",
    "# Get indices of features with importance greater than 0\n",
    "index = [i for i, x in enumerate(dt_fi) if x > 0]\n",
    "\n",
    "# Select these important features from the training and test sets\n",
    "x_train_dt = x_train.iloc[:, index]\n",
    "x_test_dt = x_test.iloc[:, index]\n",
    "\n",
    "# Fit the best model on the reduced feature set\n",
    "dt.fit(x_train_dt, y_train)\n",
    "\n",
    "# Make predictions on the training and test sets\n",
    "ypred_train = dt.predict(x_train_dt)\n",
    "ypred_test = dt.predict(x_test_dt)\n",
    "\n",
    "# Calculate and print accuracy scores\n",
    "print(\"Train Accuracy:\", accuracy_score(y_train, ypred_train))\n",
    "print(\"Cross Validation Score:\", cross_val_score(dt, x_train_dt, y_train, cv=5, scoring='accuracy').mean())\n",
    "print(\"Test Accuracy:\", accuracy_score(y_test, ypred_test))\n"
   ]
  },
  {
   "cell_type": "code",
   "execution_count": 64,
   "id": "85d39603",
   "metadata": {},
   "outputs": [
    {
     "data": {
      "text/html": [
       "<style>#sk-container-id-1 {color: black;}#sk-container-id-1 pre{padding: 0;}#sk-container-id-1 div.sk-toggleable {background-color: white;}#sk-container-id-1 label.sk-toggleable__label {cursor: pointer;display: block;width: 100%;margin-bottom: 0;padding: 0.3em;box-sizing: border-box;text-align: center;}#sk-container-id-1 label.sk-toggleable__label-arrow:before {content: \"▸\";float: left;margin-right: 0.25em;color: #696969;}#sk-container-id-1 label.sk-toggleable__label-arrow:hover:before {color: black;}#sk-container-id-1 div.sk-estimator:hover label.sk-toggleable__label-arrow:before {color: black;}#sk-container-id-1 div.sk-toggleable__content {max-height: 0;max-width: 0;overflow: hidden;text-align: left;background-color: #f0f8ff;}#sk-container-id-1 div.sk-toggleable__content pre {margin: 0.2em;color: black;border-radius: 0.25em;background-color: #f0f8ff;}#sk-container-id-1 input.sk-toggleable__control:checked~div.sk-toggleable__content {max-height: 200px;max-width: 100%;overflow: auto;}#sk-container-id-1 input.sk-toggleable__control:checked~label.sk-toggleable__label-arrow:before {content: \"▾\";}#sk-container-id-1 div.sk-estimator input.sk-toggleable__control:checked~label.sk-toggleable__label {background-color: #d4ebff;}#sk-container-id-1 div.sk-label input.sk-toggleable__control:checked~label.sk-toggleable__label {background-color: #d4ebff;}#sk-container-id-1 input.sk-hidden--visually {border: 0;clip: rect(1px 1px 1px 1px);clip: rect(1px, 1px, 1px, 1px);height: 1px;margin: -1px;overflow: hidden;padding: 0;position: absolute;width: 1px;}#sk-container-id-1 div.sk-estimator {font-family: monospace;background-color: #f0f8ff;border: 1px dotted black;border-radius: 0.25em;box-sizing: border-box;margin-bottom: 0.5em;}#sk-container-id-1 div.sk-estimator:hover {background-color: #d4ebff;}#sk-container-id-1 div.sk-parallel-item::after {content: \"\";width: 100%;border-bottom: 1px solid gray;flex-grow: 1;}#sk-container-id-1 div.sk-label:hover label.sk-toggleable__label {background-color: #d4ebff;}#sk-container-id-1 div.sk-serial::before {content: \"\";position: absolute;border-left: 1px solid gray;box-sizing: border-box;top: 0;bottom: 0;left: 50%;z-index: 0;}#sk-container-id-1 div.sk-serial {display: flex;flex-direction: column;align-items: center;background-color: white;padding-right: 0.2em;padding-left: 0.2em;position: relative;}#sk-container-id-1 div.sk-item {position: relative;z-index: 1;}#sk-container-id-1 div.sk-parallel {display: flex;align-items: stretch;justify-content: center;background-color: white;position: relative;}#sk-container-id-1 div.sk-item::before, #sk-container-id-1 div.sk-parallel-item::before {content: \"\";position: absolute;border-left: 1px solid gray;box-sizing: border-box;top: 0;bottom: 0;left: 50%;z-index: -1;}#sk-container-id-1 div.sk-parallel-item {display: flex;flex-direction: column;z-index: 1;position: relative;background-color: white;}#sk-container-id-1 div.sk-parallel-item:first-child::after {align-self: flex-end;width: 50%;}#sk-container-id-1 div.sk-parallel-item:last-child::after {align-self: flex-start;width: 50%;}#sk-container-id-1 div.sk-parallel-item:only-child::after {width: 0;}#sk-container-id-1 div.sk-dashed-wrapped {border: 1px dashed gray;margin: 0 0.4em 0.5em 0.4em;box-sizing: border-box;padding-bottom: 0.4em;background-color: white;}#sk-container-id-1 div.sk-label label {font-family: monospace;font-weight: bold;display: inline-block;line-height: 1.2em;}#sk-container-id-1 div.sk-label-container {text-align: center;}#sk-container-id-1 div.sk-container {/* jupyter's `normalize.less` sets `[hidden] { display: none; }` but bootstrap.min.css set `[hidden] { display: none !important; }` so we also need the `!important` here to be able to override the default hidden behavior on the sphinx rendered scikit-learn.org. See: https://github.com/scikit-learn/scikit-learn/issues/21755 */display: inline-block !important;position: relative;}#sk-container-id-1 div.sk-text-repr-fallback {display: none;}</style><div id=\"sk-container-id-1\" class=\"sk-top-container\"><div class=\"sk-text-repr-fallback\"><pre>DecisionTreeClassifier(max_depth=1)</pre><b>In a Jupyter environment, please rerun this cell to show the HTML representation or trust the notebook. <br />On GitHub, the HTML representation is unable to render, please try loading this page with nbviewer.org.</b></div><div class=\"sk-container\" hidden><div class=\"sk-item\"><div class=\"sk-estimator sk-toggleable\"><input class=\"sk-toggleable__control sk-hidden--visually\" id=\"sk-estimator-id-1\" type=\"checkbox\" checked><label for=\"sk-estimator-id-1\" class=\"sk-toggleable__label sk-toggleable__label-arrow\">DecisionTreeClassifier</label><div class=\"sk-toggleable__content\"><pre>DecisionTreeClassifier(max_depth=1)</pre></div></div></div></div></div>"
      ],
      "text/plain": [
       "DecisionTreeClassifier(max_depth=1)"
      ]
     },
     "execution_count": 64,
     "metadata": {},
     "output_type": "execute_result"
    }
   ],
   "source": [
    "dt_grid.best_estimator_"
   ]
  },
  {
   "cell_type": "code",
   "execution_count": 65,
   "id": "27818041",
   "metadata": {},
   "outputs": [
    {
     "data": {
      "text/html": [
       "<div>\n",
       "<style scoped>\n",
       "    .dataframe tbody tr th:only-of-type {\n",
       "        vertical-align: middle;\n",
       "    }\n",
       "\n",
       "    .dataframe tbody tr th {\n",
       "        vertical-align: top;\n",
       "    }\n",
       "\n",
       "    .dataframe thead th {\n",
       "        text-align: right;\n",
       "    }\n",
       "</style>\n",
       "<table border=\"1\" class=\"dataframe\">\n",
       "  <thead>\n",
       "    <tr style=\"text-align: right;\">\n",
       "      <th></th>\n",
       "      <th>Credit_History</th>\n",
       "    </tr>\n",
       "  </thead>\n",
       "  <tbody>\n",
       "    <tr>\n",
       "      <th>158</th>\n",
       "      <td>1.0</td>\n",
       "    </tr>\n",
       "    <tr>\n",
       "      <th>119</th>\n",
       "      <td>1.0</td>\n",
       "    </tr>\n",
       "    <tr>\n",
       "      <th>448</th>\n",
       "      <td>0.0</td>\n",
       "    </tr>\n",
       "    <tr>\n",
       "      <th>519</th>\n",
       "      <td>1.0</td>\n",
       "    </tr>\n",
       "    <tr>\n",
       "      <th>391</th>\n",
       "      <td>1.0</td>\n",
       "    </tr>\n",
       "    <tr>\n",
       "      <th>...</th>\n",
       "      <td>...</td>\n",
       "    </tr>\n",
       "    <tr>\n",
       "      <th>70</th>\n",
       "      <td>1.0</td>\n",
       "    </tr>\n",
       "    <tr>\n",
       "      <th>370</th>\n",
       "      <td>1.0</td>\n",
       "    </tr>\n",
       "    <tr>\n",
       "      <th>140</th>\n",
       "      <td>1.0</td>\n",
       "    </tr>\n",
       "    <tr>\n",
       "      <th>252</th>\n",
       "      <td>1.0</td>\n",
       "    </tr>\n",
       "    <tr>\n",
       "      <th>390</th>\n",
       "      <td>1.0</td>\n",
       "    </tr>\n",
       "  </tbody>\n",
       "</table>\n",
       "<p>423 rows × 1 columns</p>\n",
       "</div>"
      ],
      "text/plain": [
       "     Credit_History\n",
       "158             1.0\n",
       "119             1.0\n",
       "448             0.0\n",
       "519             1.0\n",
       "391             1.0\n",
       "..              ...\n",
       "70              1.0\n",
       "370             1.0\n",
       "140             1.0\n",
       "252             1.0\n",
       "390             1.0\n",
       "\n",
       "[423 rows x 1 columns]"
      ]
     },
     "execution_count": 65,
     "metadata": {},
     "output_type": "execute_result"
    }
   ],
   "source": [
    "x_train_dt"
   ]
  },
  {
   "cell_type": "markdown",
   "id": "5cad6297",
   "metadata": {},
   "source": [
    "### Random Forest Classifier"
   ]
  },
  {
   "cell_type": "code",
   "execution_count": 66,
   "id": "72c80f69",
   "metadata": {},
   "outputs": [
    {
     "name": "stdout",
     "output_type": "stream",
     "text": [
      "Train Accuracy: 0.9905437352245863\n",
      "Cross Validation Score: 0.8063025210084034\n",
      "Test Accuracy: 0.7641509433962265\n"
     ]
    }
   ],
   "source": [
    "from sklearn.ensemble import RandomForestClassifier\n",
    "from sklearn.model_selection import GridSearchCV, cross_val_score\n",
    "from sklearn.metrics import accuracy_score\n",
    "\n",
    "\n",
    "# Initialize the RandomForestClassifier with a random state\n",
    "estimator = RandomForestClassifier(random_state=rs)\n",
    "\n",
    "# Define the parameter grid\n",
    "param_grid = {\"n_estimators\": list(range(1, 51))}\n",
    "\n",
    "# Initialize the GridSearchCV object\n",
    "rf_grid = GridSearchCV(estimator, param_grid, scoring='accuracy', cv=5)\n",
    "\n",
    "# Fit the grid search to the training data\n",
    "rf_grid.fit(x_train, y_train)\n",
    "\n",
    "# Get the best estimator found by GridSearchCV\n",
    "rf = rf_grid.best_estimator_\n",
    "\n",
    "# Get feature importances from the best estimator\n",
    "rf_fi = rf.feature_importances_\n",
    "\n",
    "# Get indices of features with importance greater than 0\n",
    "index = [i for i, x in enumerate(rf_fi) if x > 0]\n",
    "\n",
    "# Select these important features from the training and test sets\n",
    "x_train_rf = x_train.iloc[:, index]\n",
    "x_test_rf = x_test.iloc[:, index]\n",
    "\n",
    "# Fit the best model on the reduced feature set\n",
    "rf.fit(x_train_rf, y_train)\n",
    "\n",
    "# Make predictions on the training and test sets\n",
    "ypred_train = rf.predict(x_train_rf)\n",
    "ypred_test = rf.predict(x_test_rf)\n",
    "\n",
    "# Calculate and print accuracy scores\n",
    "print(\"Train Accuracy:\", accuracy_score(y_train, ypred_train))\n",
    "print(\"Cross Validation Score:\", cross_val_score(rf, x_train_rf, y_train, cv=5, scoring='accuracy').mean())\n",
    "print(\"Test Accuracy:\", accuracy_score(y_test, ypred_test))\n"
   ]
  },
  {
   "cell_type": "markdown",
   "id": "c0f8cc1f",
   "metadata": {},
   "source": [
    "## Ada Boost classifier"
   ]
  },
  {
   "cell_type": "code",
   "execution_count": 67,
   "id": "a127f8fb",
   "metadata": {},
   "outputs": [
    {
     "name": "stdout",
     "output_type": "stream",
     "text": [
      "Train Accuracy: 0.83451536643026\n",
      "Cross Validation Score: 0.8298879551820729\n",
      "Test Accuracy: 0.7641509433962265\n"
     ]
    }
   ],
   "source": [
    "from sklearn.ensemble import AdaBoostClassifier\n",
    "from sklearn.model_selection import GridSearchCV, cross_val_score\n",
    "from sklearn.metrics import accuracy_score\n",
    "\n",
    "# Assuming rs, x_train, y_train, x_test, y_test are already defined somewhere in your code\n",
    "estimator = AdaBoostClassifier(random_state=rs)\n",
    "param_grid = {'n_estimators': list(range(1, 51))}  # Fixed typo: 'n_estimators'\n",
    "\n",
    "# Perform GridSearchCV\n",
    "ab_grid = GridSearchCV(estimator, param_grid, scoring='accuracy', cv=5)\n",
    "ab_grid.fit(x_train, y_train)\n",
    "\n",
    "# Get the best estimator and feature importances\n",
    "ab = ab_grid.best_estimator_\n",
    "ab_fi = ab.feature_importances_  # Fixed typo: 'feature_importances_'\n",
    "\n",
    "# Select important features\n",
    "index = [i for i, x in enumerate(ab_fi) if x > 0]\n",
    "\n",
    "# Subset the training and test data with important features\n",
    "x_train_ab = x_train.iloc[:, index]\n",
    "x_test_ab = x_test.iloc[:, index]\n",
    "\n",
    "# Fit the model with the important features\n",
    "ab.fit(x_train_ab, y_train)  # Fixed typo: 'y_train'\n",
    "\n",
    "# Make predictions\n",
    "ypred_train = ab.predict(x_train_ab)\n",
    "ypred_test = ab.predict(x_test_ab)\n",
    "\n",
    "# Print accuracy scores\n",
    "print(\"Train Accuracy:\", accuracy_score(y_train, ypred_train))\n",
    "print(\"Cross Validation Score:\", cross_val_score(ab, x_train_ab, y_train, cv=5, scoring='accuracy').mean())\n",
    "print(\"Test Accuracy:\", accuracy_score(y_test, ypred_test))\n"
   ]
  },
  {
   "cell_type": "markdown",
   "id": "62f4a20d",
   "metadata": {},
   "source": [
    "## Gradient Booster Classifier"
   ]
  },
  {
   "cell_type": "code",
   "execution_count": 69,
   "id": "74529d69",
   "metadata": {},
   "outputs": [
    {
     "name": "stdout",
     "output_type": "stream",
     "text": [
      "Train Accuracy : 0.8392434988179669\n",
      "Cross Validation Score: [0.82352941 0.78823529 0.82352941 0.83333333 0.83333333]\n",
      "Test Accuracy : 0.7735849056603774\n"
     ]
    }
   ],
   "source": [
    "from sklearn.ensemble import GradientBoostingClassifier\n",
    "from sklearn.model_selection import GridSearchCV, cross_val_score\n",
    "from sklearn.metrics import accuracy_score\n",
    "import numpy as np\n",
    "\n",
    "# Setting random state\n",
    "rs = 42\n",
    "\n",
    "# Define the Gradient Boosting Classifier\n",
    "estimator = GradientBoostingClassifier(random_state=rs)\n",
    "\n",
    "# Define the parameter grid\n",
    "param_grid = {\"n_estimators\": list(range(1, 10)), \"learning_rate\": [0.1, 0.2, 0.3, 0.4, 0.5]}\n",
    "\n",
    "# Perform Grid Search with Cross-Validation\n",
    "gb_grid = GridSearchCV(estimator, param_grid, scoring='accuracy', cv=5)\n",
    "gb_grid.fit(x_train, y_train)\n",
    "\n",
    "# Get the best estimator\n",
    "gb = gb_grid.best_estimator_\n",
    "\n",
    "# Get feature importances\n",
    "gb_fi = gb.feature_importances_\n",
    "\n",
    "# Get indices of important features\n",
    "index = [i for i, x in enumerate(gb_fi) if x > 0]\n",
    "\n",
    "# Filter the training and test data to include only the important features\n",
    "x_train_gb = x_train.iloc[:, index]\n",
    "x_test_gb = x_test.iloc[:, index]\n",
    "\n",
    "# Fit the model on the filtered training data\n",
    "gb.fit(x_train_gb, y_train)\n",
    "\n",
    "# Make predictions\n",
    "ypred_train = gb.predict(x_train_gb)\n",
    "ypred_test = gb.predict(x_test_gb)\n",
    "\n",
    "# Calculate and print accuracies\n",
    "print(\"Train Accuracy :\", accuracy_score(y_train, ypred_train))\n",
    "print(\"Cross Validation Score:\", cross_val_score(gb, x_train_gb, y_train, cv=5, scoring='accuracy'))\n",
    "print(\"Test Accuracy :\", accuracy_score(y_test, ypred_test))\n"
   ]
  },
  {
   "cell_type": "code",
   "execution_count": null,
   "id": "b5692727",
   "metadata": {},
   "outputs": [],
   "source": []
  },
  {
   "cell_type": "code",
   "execution_count": null,
   "id": "4e0863b2",
   "metadata": {},
   "outputs": [],
   "source": []
  }
 ],
 "metadata": {
  "kernelspec": {
   "display_name": "Python 3 (ipykernel)",
   "language": "python",
   "name": "python3"
  },
  "language_info": {
   "codemirror_mode": {
    "name": "ipython",
    "version": 3
   },
   "file_extension": ".py",
   "mimetype": "text/x-python",
   "name": "python",
   "nbconvert_exporter": "python",
   "pygments_lexer": "ipython3",
   "version": "3.11.5"
  }
 },
 "nbformat": 4,
 "nbformat_minor": 5
}
